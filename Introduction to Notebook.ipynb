{
    "cells": [
        {
            "cell_type": "code",
            "execution_count": 1,
            "metadata": {},
            "outputs": [
                {
                    "data": {
                        "text/html": "<div>\n<style scoped>\n    .dataframe tbody tr th:only-of-type {\n        vertical-align: middle;\n    }\n\n    .dataframe tbody tr th {\n        vertical-align: top;\n    }\n\n    .dataframe thead th {\n        text-align: right;\n    }\n</style>\n<table border=\"1\" class=\"dataframe\">\n  <thead>\n    <tr style=\"text-align: right;\">\n      <th></th>\n      <th>Segment</th>\n      <th>Country</th>\n      <th>Product</th>\n      <th>Discount Band</th>\n      <th>Units Sold</th>\n      <th>Manufacturing Price</th>\n      <th>Sale Price</th>\n      <th>Gross Sales</th>\n      <th>Discounts</th>\n      <th>Sales</th>\n      <th>COGS</th>\n      <th>Profit</th>\n      <th>Date</th>\n      <th>Month Number</th>\n      <th>Month Name</th>\n      <th>Year</th>\n    </tr>\n  </thead>\n  <tbody>\n    <tr>\n      <th>0</th>\n      <td>Government</td>\n      <td>Canada</td>\n      <td>Carretera</td>\n      <td>None</td>\n      <td>1618.5</td>\n      <td>3</td>\n      <td>20</td>\n      <td>32370.0</td>\n      <td>0.0</td>\n      <td>32370.0</td>\n      <td>16185.0</td>\n      <td>16185.0</td>\n      <td>2014-01-01</td>\n      <td>1</td>\n      <td>January</td>\n      <td>2014</td>\n    </tr>\n    <tr>\n      <th>1</th>\n      <td>Government</td>\n      <td>Germany</td>\n      <td>Carretera</td>\n      <td>None</td>\n      <td>1321.0</td>\n      <td>3</td>\n      <td>20</td>\n      <td>26420.0</td>\n      <td>0.0</td>\n      <td>26420.0</td>\n      <td>13210.0</td>\n      <td>13210.0</td>\n      <td>2014-01-01</td>\n      <td>1</td>\n      <td>January</td>\n      <td>2014</td>\n    </tr>\n    <tr>\n      <th>2</th>\n      <td>Midmarket</td>\n      <td>France</td>\n      <td>Carretera</td>\n      <td>None</td>\n      <td>2178.0</td>\n      <td>3</td>\n      <td>15</td>\n      <td>32670.0</td>\n      <td>0.0</td>\n      <td>32670.0</td>\n      <td>21780.0</td>\n      <td>10890.0</td>\n      <td>2014-06-01</td>\n      <td>6</td>\n      <td>June</td>\n      <td>2014</td>\n    </tr>\n    <tr>\n      <th>3</th>\n      <td>Midmarket</td>\n      <td>Germany</td>\n      <td>Carretera</td>\n      <td>None</td>\n      <td>888.0</td>\n      <td>3</td>\n      <td>15</td>\n      <td>13320.0</td>\n      <td>0.0</td>\n      <td>13320.0</td>\n      <td>8880.0</td>\n      <td>4440.0</td>\n      <td>2014-06-01</td>\n      <td>6</td>\n      <td>June</td>\n      <td>2014</td>\n    </tr>\n    <tr>\n      <th>4</th>\n      <td>Midmarket</td>\n      <td>Mexico</td>\n      <td>Carretera</td>\n      <td>None</td>\n      <td>2470.0</td>\n      <td>3</td>\n      <td>15</td>\n      <td>37050.0</td>\n      <td>0.0</td>\n      <td>37050.0</td>\n      <td>24700.0</td>\n      <td>12350.0</td>\n      <td>2014-06-01</td>\n      <td>6</td>\n      <td>June</td>\n      <td>2014</td>\n    </tr>\n  </tbody>\n</table>\n</div>",
                        "text/plain": "      Segment  Country    Product Discount Band  Units Sold  \\\n0  Government   Canada  Carretera          None      1618.5   \n1  Government  Germany  Carretera          None      1321.0   \n2   Midmarket   France  Carretera          None      2178.0   \n3   Midmarket  Germany  Carretera          None       888.0   \n4   Midmarket   Mexico  Carretera          None      2470.0   \n\n   Manufacturing Price  Sale Price  Gross Sales  Discounts    Sales     COGS  \\\n0                    3          20      32370.0        0.0  32370.0  16185.0   \n1                    3          20      26420.0        0.0  26420.0  13210.0   \n2                    3          15      32670.0        0.0  32670.0  21780.0   \n3                    3          15      13320.0        0.0  13320.0   8880.0   \n4                    3          15      37050.0        0.0  37050.0  24700.0   \n\n    Profit       Date  Month Number Month Name  Year  \n0  16185.0 2014-01-01             1    January  2014  \n1  13210.0 2014-01-01             1    January  2014  \n2  10890.0 2014-06-01             6       June  2014  \n3   4440.0 2014-06-01             6       June  2014  \n4  12350.0 2014-06-01             6       June  2014  "
                    },
                    "execution_count": 1,
                    "metadata": {},
                    "output_type": "execute_result"
                }
            ],
            "source": "# The code was removed by Watson Studio for sharing."
        },
        {
            "cell_type": "code",
            "execution_count": null,
            "metadata": {},
            "outputs": [],
            "source": ""
        }
    ],
    "metadata": {
        "kernelspec": {
            "display_name": "Python 3.6",
            "language": "python",
            "name": "python3"
        },
        "language_info": {
            "codemirror_mode": {
                "name": "ipython",
                "version": 3
            },
            "file_extension": ".py",
            "mimetype": "text/x-python",
            "name": "python",
            "nbconvert_exporter": "python",
            "pygments_lexer": "ipython3",
            "version": "3.6.9"
        }
    },
    "nbformat": 4,
    "nbformat_minor": 1
}